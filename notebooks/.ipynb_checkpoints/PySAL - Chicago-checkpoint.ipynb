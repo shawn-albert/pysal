{
 "cells": [
  {
   "cell_type": "code",
   "execution_count": 21,
   "metadata": {},
   "outputs": [
    {
     "data": {
      "text/html": [
       "<style>.container { width:100% !important; }</style>"
      ],
      "text/plain": [
       "<IPython.core.display.HTML object>"
      ]
     },
     "metadata": {},
     "output_type": "display_data"
    }
   ],
   "source": [
    "from IPython.core.display import display, HTML\n",
    "display(HTML(\"<style>.container { width:100% !important; }</style>\"))"
   ]
  },
  {
   "cell_type": "code",
   "execution_count": 22,
   "metadata": {},
   "outputs": [],
   "source": [
    "import pysal\n",
    "import pandas as pd\n",
    "import libpysal"
   ]
  },
  {
   "cell_type": "code",
   "execution_count": 23,
   "metadata": {},
   "outputs": [],
   "source": [
    "pd.options.display.max_columns = None"
   ]
  },
  {
   "cell_type": "code",
   "execution_count": 24,
   "metadata": {},
   "outputs": [
    {
     "name": "stdout",
     "output_type": "stream",
     "text": [
      "              Name                                                                                                                                                                                                                                       Description  Installed\n",
      "0            10740                                                                                                                Albuquerque, New Mexico, Census 2000 Tract Data. 10740 is the Core Based Statistical Area (CBSA) code for Albuquerque, New Mexico.       True\n",
      "1             Line                                                                                                                                                                                                                                    Line Shapefile       True\n",
      "2            Point                                                                                                                                                                                                                                   Point Shapefile       True\n",
      "3          Polygon                                                                                                                                                                                                                                 Polygon Shapefile       True\n",
      "4    Polygon_Holes                                                                                                                                                                                                                Example to test treatment of holes       True\n",
      "5           arcgis                                                                                                                                                                                                                              arcgis testing files       True\n",
      "6           baltim                                                                                                                                                                                                  Baltimore house sales prices and hedonics, 1978.       True\n",
      "7           berlin                                                                                                                                                                                              Prenzlauer Berg neighborhood AirBnB data from Berlin       True\n",
      "8             book                                                                                                                                                                                                      Synthetic data to illustrate spatial weights       True\n",
      "9          burkitt                                                                                                                                                                                         Burkitt's lymphoma in the Western Nile district of Uganda       True\n",
      "10          calemp                                                                                                                                                                                                        Employment density for California counties       True\n",
      "11         chicago                                                                                                                                                                                                                             Chicago neighborhoods       True\n",
      "12        columbus                                                                                                                                                                                                             Columbus neighborhood crime data 1980       True\n",
      "13         desmith                                                                                                                                                                                                   Small dataset to illustrate Moran's I statistic       True\n",
      "14        geodanet                                                                                                                                                                                                       Datasets from GeoDaNet for network analysis       True\n",
      "15         georgia                                                                                                                                                                  Various socio-economic variables for counties within the state of Georgia (1990)       True\n",
      "16        juvenile                                                                                                                                                                                                   Residences of juvenile offenders in Cardiff, UK       True\n",
      "17          mexico                                                                                                                                                                                          Decennial per capita incomes of Mexican states 1940-2000       True\n",
      "18        networks                                                                                                                                                                                                                 Datasets used for network testing       True\n",
      "19           sids2                                                                                                                                                                                                 North Carolina county SIDS death counts and rates       True\n",
      "20       snow_maps                                                                                                                                                                    Public water pumps and Cholera deaths in London 1854 (John Snow's Cholera Map)       True\n",
      "21             stl  Homicides and selected socio-economic characteristics for counties surrounding St Louis, MO. Data aggregated for three time periods: 1979-84 (steady decline in homicides), 1984-88 (stable period), and 1988-93 (steady increase in homicides).       True\n",
      "22  street_net_pts                                                                                                                                                                                                                             Street network points       True\n",
      "23           tokyo                                                                                                                                                                                                                              Tokyo Mortality data       True\n",
      "24       us_income                                                                                                                                                                                            Per-capita income for the lower 48 US states 1929-2009       True\n",
      "25        virginia                                                                                                                                                                                                                       Virginia counties shapefile       True\n",
      "26            wmat                                                                                                                                                                                                         Datasets used for spatial weights testing       True\n"
     ]
    }
   ],
   "source": [
    "libpysal.examples.available()"
   ]
  },
  {
   "cell_type": "code",
   "execution_count": 16,
   "metadata": {},
   "outputs": [
    {
     "name": "stdout",
     "output_type": "stream",
     "text": [
      "chicago\n",
      "=======\n",
      "\n",
      "Chicago neighborhoods\n",
      "--------------------\n",
      "\n",
      "* Chicago77.dbf: attribute data. (k=11)\n",
      "* Chicago77.shp: Polygon shapefile. (n=77)\n",
      "* Chicago77.shx: spatial index.\n",
      "\n",
      "Source: Anselin, L. and S.J. Rey (in progress) Spatial Econometrics: Foundations.\n"
     ]
    }
   ],
   "source": [
    "libpysal.examples.explain('chicago')"
   ]
  },
  {
   "cell_type": "code",
   "execution_count": null,
   "metadata": {},
   "outputs": [],
   "source": []
  }
 ],
 "metadata": {
  "kernelspec": {
   "display_name": "Python 3",
   "language": "python",
   "name": "python3"
  },
  "language_info": {
   "codemirror_mode": {
    "name": "ipython",
    "version": 3
   },
   "file_extension": ".py",
   "mimetype": "text/x-python",
   "name": "python",
   "nbconvert_exporter": "python",
   "pygments_lexer": "ipython3",
   "version": "3.7.7"
  }
 },
 "nbformat": 4,
 "nbformat_minor": 4
}
