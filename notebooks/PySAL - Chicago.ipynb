{
 "cells": [
  {
   "cell_type": "code",
   "execution_count": 2,
   "metadata": {},
   "outputs": [
    {
     "data": {
      "text/html": [
       "<style>.container { width:100% !important; }</style>"
      ],
      "text/plain": [
       "<IPython.core.display.HTML object>"
      ]
     },
     "metadata": {},
     "output_type": "display_data"
    },
    {
     "data": {
      "text/html": [
       "<style>div.output_area pre {white-space: pre;}</style>"
      ],
      "text/plain": [
       "<IPython.core.display.HTML object>"
      ]
     },
     "metadata": {},
     "output_type": "display_data"
    }
   ],
   "source": [
    "display(HTML(\"<style>.container { width:100% !important; }</style>\"))\n",
    "InteractiveShell.ast_node_interactivity = \"all\"\n",
    "display(HTML(\"<style>div.output_area pre {white-space: pre;}</style>\"))"
   ]
  },
  {
   "cell_type": "code",
   "execution_count": 3,
   "metadata": {},
   "outputs": [],
   "source": [
    "from IPython.core.display import display, HTML\n",
    "from IPython.core.interactiveshell import InteractiveShell\n",
    "\n",
    "import esda\n",
    "import pandas as pd\n",
    "import geopandas as gpd\n",
    "from geopandas import GeoDataFrame\n",
    "import libpysal as lps\n",
    "import numpy as np\n",
    "import matplotlib.pyplot as plt\n",
    "from shapely.geometry import Point\n",
    "%matplotlib inline"
   ]
  },
  {
   "cell_type": "code",
   "execution_count": 6,
   "metadata": {},
   "outputs": [
    {
     "name": "stdout",
     "output_type": "stream",
     "text": [
      "No Python documentation found for 'lps.examples'.\r\n",
      "Use help() to get the interactive help utility.\r\n",
      "Use help(str) for help on the str class.\r\n",
      "\r\n"
     ]
    }
   ],
   "source": [
    "!pydoc libpysal.examples"
   ]
  },
  {
   "cell_type": "code",
   "execution_count": 7,
   "metadata": {},
   "outputs": [
    {
     "name": "stdout",
     "output_type": "stream",
     "text": [
      "chicago\n",
      "=======\n",
      "\n",
      "Chicago neighborhoods\n",
      "--------------------\n",
      "\n",
      "* Chicago77.dbf: attribute data. (k=11)\n",
      "* Chicago77.shp: Polygon shapefile. (n=77)\n",
      "* Chicago77.shx: spatial index.\n",
      "\n",
      "Source: Anselin, L. and S.J. Rey (in progress) Spatial Econometrics: Foundations.\n"
     ]
    }
   ],
   "source": [
    "lps.examples.explain('chicago')"
   ]
  },
  {
   "cell_type": "code",
   "execution_count": 14,
   "metadata": {},
   "outputs": [
    {
     "data": {
      "text/plain": [
       "['/anaconda3/envs/geospatial/lib/python3.7/site-packages/libpysal/examples/chicago/Chicago77.shx',\n",
       " '/anaconda3/envs/geospatial/lib/python3.7/site-packages/libpysal/examples/chicago/Chicago77.shp',\n",
       " '/anaconda3/envs/geospatial/lib/python3.7/site-packages/libpysal/examples/chicago/Chicago77.dbf',\n",
       " '/anaconda3/envs/geospatial/lib/python3.7/site-packages/libpysal/examples/chicago/README.md']"
      ]
     },
     "execution_count": 14,
     "metadata": {},
     "output_type": "execute_result"
    }
   ],
   "source": [
    "chicago = lps.examples.load_example('chicago')\n",
    "chicago.get_file_list()"
   ]
  },
  {
   "cell_type": "code",
   "execution_count": 22,
   "metadata": {},
   "outputs": [
    {
     "data": {
      "text/html": [
       "<div>\n",
       "<style scoped>\n",
       "    .dataframe tbody tr th:only-of-type {\n",
       "        vertical-align: middle;\n",
       "    }\n",
       "\n",
       "    .dataframe tbody tr th {\n",
       "        vertical-align: top;\n",
       "    }\n",
       "\n",
       "    .dataframe thead th {\n",
       "        text-align: right;\n",
       "    }\n",
       "</style>\n",
       "<table border=\"1\" class=\"dataframe\">\n",
       "  <thead>\n",
       "    <tr style=\"text-align: right;\">\n",
       "      <th></th>\n",
       "      <th>OBJECTID</th>\n",
       "      <th>AREA</th>\n",
       "      <th>PERIMETER</th>\n",
       "      <th>COMAREA_</th>\n",
       "      <th>COMAREA_ID</th>\n",
       "      <th>AREA_NUMBE</th>\n",
       "      <th>COMMUNITY</th>\n",
       "      <th>AREA_NUM_1</th>\n",
       "      <th>SHAPE_AREA</th>\n",
       "      <th>SHAPE_LEN</th>\n",
       "      <th>AREANO</th>\n",
       "      <th>geometry</th>\n",
       "    </tr>\n",
       "  </thead>\n",
       "  <tbody>\n",
       "    <tr>\n",
       "      <th>0</th>\n",
       "      <td>1</td>\n",
       "      <td>5.128307e+07</td>\n",
       "      <td>33771.998103</td>\n",
       "      <td>2</td>\n",
       "      <td>1</td>\n",
       "      <td>1</td>\n",
       "      <td>ROGERS PARK</td>\n",
       "      <td>1</td>\n",
       "      <td>5.128307e+07</td>\n",
       "      <td>33771.997976</td>\n",
       "      <td>1</td>\n",
       "      <td>POLYGON ((1165733.989 1951652.764, 1165809.199...</td>\n",
       "    </tr>\n",
       "    <tr>\n",
       "      <th>1</th>\n",
       "      <td>2</td>\n",
       "      <td>9.769664e+07</td>\n",
       "      <td>42710.453033</td>\n",
       "      <td>3</td>\n",
       "      <td>2</td>\n",
       "      <td>2</td>\n",
       "      <td>WEST RIDGE</td>\n",
       "      <td>2</td>\n",
       "      <td>9.769664e+07</td>\n",
       "      <td>42710.453011</td>\n",
       "      <td>2</td>\n",
       "      <td>POLYGON ((1159441.460 1950363.958, 1159502.470...</td>\n",
       "    </tr>\n",
       "    <tr>\n",
       "      <th>2</th>\n",
       "      <td>3</td>\n",
       "      <td>3.164576e+07</td>\n",
       "      <td>25931.055752</td>\n",
       "      <td>4</td>\n",
       "      <td>3</td>\n",
       "      <td>9</td>\n",
       "      <td>EDISON PARK</td>\n",
       "      <td>9</td>\n",
       "      <td>3.164576e+07</td>\n",
       "      <td>25931.055845</td>\n",
       "      <td>9</td>\n",
       "      <td>POLYGON ((1127394.866 1949941.243, 1127394.360...</td>\n",
       "    </tr>\n",
       "    <tr>\n",
       "      <th>3</th>\n",
       "      <td>4</td>\n",
       "      <td>8.963238e+07</td>\n",
       "      <td>74304.548539</td>\n",
       "      <td>5</td>\n",
       "      <td>4</td>\n",
       "      <td>12</td>\n",
       "      <td>FOREST GLEN</td>\n",
       "      <td>12</td>\n",
       "      <td>8.963238e+07</td>\n",
       "      <td>74304.548187</td>\n",
       "      <td>12</td>\n",
       "      <td>POLYGON ((1135448.500 1948761.629, 1135455.710...</td>\n",
       "    </tr>\n",
       "    <tr>\n",
       "      <th>4</th>\n",
       "      <td>5</td>\n",
       "      <td>3.760269e+08</td>\n",
       "      <td>167219.784033</td>\n",
       "      <td>6</td>\n",
       "      <td>5</td>\n",
       "      <td>76</td>\n",
       "      <td>OHARE</td>\n",
       "      <td>76</td>\n",
       "      <td>3.760269e+08</td>\n",
       "      <td>167219.784137</td>\n",
       "      <td>76</td>\n",
       "      <td>POLYGON ((1100461.980 1946157.902, 1101407.221...</td>\n",
       "    </tr>\n",
       "    <tr>\n",
       "      <th>...</th>\n",
       "      <td>...</td>\n",
       "      <td>...</td>\n",
       "      <td>...</td>\n",
       "      <td>...</td>\n",
       "      <td>...</td>\n",
       "      <td>...</td>\n",
       "      <td>...</td>\n",
       "      <td>...</td>\n",
       "      <td>...</td>\n",
       "      <td>...</td>\n",
       "      <td>...</td>\n",
       "      <td>...</td>\n",
       "    </tr>\n",
       "    <tr>\n",
       "      <th>72</th>\n",
       "      <td>75</td>\n",
       "      <td>7.549660e+07</td>\n",
       "      <td>48538.604177</td>\n",
       "      <td>76</td>\n",
       "      <td>75</td>\n",
       "      <td>74</td>\n",
       "      <td>MOUNT GREENWOOD</td>\n",
       "      <td>74</td>\n",
       "      <td>7.549660e+07</td>\n",
       "      <td>48538.604137</td>\n",
       "      <td>74</td>\n",
       "      <td>POLYGON ((1153734.970 1838728.026, 1153745.839...</td>\n",
       "    </tr>\n",
       "    <tr>\n",
       "      <th>73</th>\n",
       "      <td>76</td>\n",
       "      <td>9.171636e+07</td>\n",
       "      <td>45383.077853</td>\n",
       "      <td>77</td>\n",
       "      <td>76</td>\n",
       "      <td>75</td>\n",
       "      <td>MORGAN PARK</td>\n",
       "      <td>75</td>\n",
       "      <td>9.171636e+07</td>\n",
       "      <td>45383.077779</td>\n",
       "      <td>75</td>\n",
       "      <td>POLYGON ((1172878.789 1833897.244, 1172883.420...</td>\n",
       "    </tr>\n",
       "    <tr>\n",
       "      <th>74</th>\n",
       "      <td>78</td>\n",
       "      <td>1.471192e+08</td>\n",
       "      <td>74313.765919</td>\n",
       "      <td>79</td>\n",
       "      <td>78</td>\n",
       "      <td>55</td>\n",
       "      <td>HEGEWISCH</td>\n",
       "      <td>55</td>\n",
       "      <td>1.471192e+08</td>\n",
       "      <td>74313.766144</td>\n",
       "      <td>55</td>\n",
       "      <td>POLYGON ((1204796.680 1831320.648, 1204870.340...</td>\n",
       "    </tr>\n",
       "    <tr>\n",
       "      <th>75</th>\n",
       "      <td>79</td>\n",
       "      <td>1.006120e+08</td>\n",
       "      <td>47369.192240</td>\n",
       "      <td>80</td>\n",
       "      <td>79</td>\n",
       "      <td>54</td>\n",
       "      <td>RIVERDALE</td>\n",
       "      <td>54</td>\n",
       "      <td>1.006120e+08</td>\n",
       "      <td>47369.192072</td>\n",
       "      <td>54</td>\n",
       "      <td>POLYGON ((1184127.396 1829095.487, 1184170.303...</td>\n",
       "    </tr>\n",
       "    <tr>\n",
       "      <th>76</th>\n",
       "      <td>80</td>\n",
       "      <td>1.016717e+08</td>\n",
       "      <td>50058.152597</td>\n",
       "      <td>81</td>\n",
       "      <td>80</td>\n",
       "      <td>53</td>\n",
       "      <td>WEST PULLMAN</td>\n",
       "      <td>53</td>\n",
       "      <td>1.016717e+08</td>\n",
       "      <td>50058.152746</td>\n",
       "      <td>53</td>\n",
       "      <td>POLYGON ((1181176.130 1828787.647, 1181192.869...</td>\n",
       "    </tr>\n",
       "  </tbody>\n",
       "</table>\n",
       "<p>77 rows × 12 columns</p>\n",
       "</div>"
      ],
      "text/plain": [
       "    OBJECTID          AREA      PERIMETER  COMAREA_  COMAREA_ID AREA_NUMBE  \\\n",
       "0          1  5.128307e+07   33771.998103         2           1          1   \n",
       "1          2  9.769664e+07   42710.453033         3           2          2   \n",
       "2          3  3.164576e+07   25931.055752         4           3          9   \n",
       "3          4  8.963238e+07   74304.548539         5           4         12   \n",
       "4          5  3.760269e+08  167219.784033         6           5         76   \n",
       "..       ...           ...            ...       ...         ...        ...   \n",
       "72        75  7.549660e+07   48538.604177        76          75         74   \n",
       "73        76  9.171636e+07   45383.077853        77          76         75   \n",
       "74        78  1.471192e+08   74313.765919        79          78         55   \n",
       "75        79  1.006120e+08   47369.192240        80          79         54   \n",
       "76        80  1.016717e+08   50058.152597        81          80         53   \n",
       "\n",
       "          COMMUNITY AREA_NUM_1    SHAPE_AREA      SHAPE_LEN  AREANO  \\\n",
       "0       ROGERS PARK          1  5.128307e+07   33771.997976       1   \n",
       "1        WEST RIDGE          2  9.769664e+07   42710.453011       2   \n",
       "2       EDISON PARK          9  3.164576e+07   25931.055845       9   \n",
       "3       FOREST GLEN         12  8.963238e+07   74304.548187      12   \n",
       "4             OHARE         76  3.760269e+08  167219.784137      76   \n",
       "..              ...        ...           ...            ...     ...   \n",
       "72  MOUNT GREENWOOD         74  7.549660e+07   48538.604137      74   \n",
       "73      MORGAN PARK         75  9.171636e+07   45383.077779      75   \n",
       "74        HEGEWISCH         55  1.471192e+08   74313.766144      55   \n",
       "75        RIVERDALE         54  1.006120e+08   47369.192072      54   \n",
       "76     WEST PULLMAN         53  1.016717e+08   50058.152746      53   \n",
       "\n",
       "                                             geometry  \n",
       "0   POLYGON ((1165733.989 1951652.764, 1165809.199...  \n",
       "1   POLYGON ((1159441.460 1950363.958, 1159502.470...  \n",
       "2   POLYGON ((1127394.866 1949941.243, 1127394.360...  \n",
       "3   POLYGON ((1135448.500 1948761.629, 1135455.710...  \n",
       "4   POLYGON ((1100461.980 1946157.902, 1101407.221...  \n",
       "..                                                ...  \n",
       "72  POLYGON ((1153734.970 1838728.026, 1153745.839...  \n",
       "73  POLYGON ((1172878.789 1833897.244, 1172883.420...  \n",
       "74  POLYGON ((1204796.680 1831320.648, 1204870.340...  \n",
       "75  POLYGON ((1184127.396 1829095.487, 1184170.303...  \n",
       "76  POLYGON ((1181176.130 1828787.647, 1181192.869...  \n",
       "\n",
       "[77 rows x 12 columns]"
      ]
     },
     "execution_count": 22,
     "metadata": {},
     "output_type": "execute_result"
    }
   ],
   "source": [
    "chicago_gdf = gpd.read_file(chicago.get_file_list()[0])\n",
    "chicago_gdf"
   ]
  },
  {
   "cell_type": "code",
   "execution_count": null,
   "metadata": {},
   "outputs": [],
   "source": []
  }
 ],
 "metadata": {
  "kernelspec": {
   "display_name": "Python 3",
   "language": "python",
   "name": "python3"
  },
  "language_info": {
   "codemirror_mode": {
    "name": "ipython",
    "version": 3
   },
   "file_extension": ".py",
   "mimetype": "text/x-python",
   "name": "python",
   "nbconvert_exporter": "python",
   "pygments_lexer": "ipython3",
   "version": "3.7.7"
  }
 },
 "nbformat": 4,
 "nbformat_minor": 4
}
